{
 "cells": [
  {
   "cell_type": "markdown",
   "metadata": {},
   "source": [
    "root ipython in tensorly folder. No need if tensorly installed with pip with optimization module support."
   ]
  },
  {
   "cell_type": "code",
   "execution_count": 1,
   "metadata": {},
   "outputs": [
    {
     "name": "stdout",
     "output_type": "stream",
     "text": [
      "/home/jecohen/Online/tensorly\n"
     ]
    }
   ],
   "source": [
    "cd ~/Online/tensorly"
   ]
  },
  {
   "cell_type": "code",
   "execution_count": 2,
   "metadata": {},
   "outputs": [
    {
     "name": "stderr",
     "output_type": "stream",
     "text": [
      "Using numpy backend.\n"
     ]
    }
   ],
   "source": [
    "import time\n",
    "import matplotlib.pyplot as plt\n",
    "import tensorly as tl\n",
    "import numpy as np\n",
    "from scipy.misc import face, imresize\n",
    "from tensorly.decomposition import parafac\n",
    "from tensorly.decomposition import non_negative_parafac\n",
    "from tensorly.decomposition import tucker\n",
    "from math import ceil"
   ]
  },
  {
   "cell_type": "code",
   "execution_count": 3,
   "metadata": {},
   "outputs": [],
   "source": [
    "import tensorly.contrib.optimization.optim_parafac as paraclass"
   ]
  },
  {
   "cell_type": "code",
   "execution_count": null,
   "metadata": {},
   "outputs": [],
   "source": [
    "random_state = 12345\n",
    "\n",
    "image = tl.tensor(imresize(face(), 0.3), dtype='float64')\n",
    "\n",
    "def to_image(tensor):\n",
    "    \"\"\"A convenience function to convert from a float dtype back to uint8\"\"\"\n",
    "    im = tl.to_numpy(tensor)\n",
    "    im -= im.min()\n",
    "    im /= im.max()\n",
    "    im *= 255\n",
    "    return im.astype(np.uint8)\n",
    "\n",
    "# Rank of the CP decomposition\n",
    "cp_rank = 25\n",
    "\n"
   ]
  },
  {
   "cell_type": "code",
   "execution_count": null,
   "metadata": {},
   "outputs": [],
   "source": [
    "# Perform the CP decomposition\n",
    "    # Fixed mode test\n",
    "fixed = [];\n",
    "    # creating the class instance\n",
    "model = paraclass.Parafac(rank = cp_rank, verbose=False, init='random', random_state=random_state, fixed_modes = fixed)"
   ]
  },
  {
   "cell_type": "code",
   "execution_count": null,
   "metadata": {},
   "outputs": [],
   "source": [
    "factors, errors = model.fit(image)"
   ]
  },
  {
   "cell_type": "code",
   "execution_count": null,
   "metadata": {},
   "outputs": [],
   "source": [
    "errors[-1]"
   ]
  },
  {
   "cell_type": "code",
   "execution_count": null,
   "metadata": {},
   "outputs": [],
   "source": [
    "# Reconstruct the image from the factors\n",
    "cp_reconstruction = model.reconstruct();\n",
    "\n",
    "\n",
    "# plotting original and reconstructions\n",
    "# Plotting the original and reconstruction from the decompositions\n",
    "fig = plt.figure()\n",
    "ax = fig.add_subplot(2, 3, 1)\n",
    "ax.set_axis_off()\n",
    "ax.imshow(to_image(image))\n",
    "ax.set_title('original')\n",
    "\n",
    "ax = fig.add_subplot(2, 3, 2)\n",
    "ax.set_axis_off()\n",
    "ax.imshow(to_image(cp_reconstruction))\n",
    "ax.set_title('CP optim')\n",
    "\n",
    "plt.tight_layout()\n",
    "plt.show()"
   ]
  },
  {
   "cell_type": "code",
   "execution_count": null,
   "metadata": {},
   "outputs": [],
   "source": []
  }
 ],
 "metadata": {
  "kernelspec": {
   "display_name": "Python 3",
   "language": "python",
   "name": "python3"
  },
  "language_info": {
   "codemirror_mode": {
    "name": "ipython",
    "version": 3
   },
   "file_extension": ".py",
   "mimetype": "text/x-python",
   "name": "python",
   "nbconvert_exporter": "python",
   "pygments_lexer": "ipython3",
   "version": "3.7.1"
  }
 },
 "nbformat": 4,
 "nbformat_minor": 2
}
