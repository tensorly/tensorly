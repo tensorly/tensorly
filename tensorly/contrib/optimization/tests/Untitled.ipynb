{
 "cells": [
  {
   "cell_type": "markdown",
   "metadata": {},
   "source": [
    "root ipython in tensorly folder"
   ]
  },
  {
   "cell_type": "code",
   "execution_count": 8,
   "metadata": {},
   "outputs": [
    {
     "name": "stdout",
     "output_type": "stream",
     "text": [
      "/home/jecohen/Online/tensorly\n"
     ]
    }
   ],
   "source": [
    "cd ~/Online/tensorly"
   ]
  },
  {
   "cell_type": "code",
   "execution_count": 9,
   "metadata": {},
   "outputs": [
    {
     "name": "stderr",
     "output_type": "stream",
     "text": [
      "Using numpy backend.\n"
     ]
    }
   ],
   "source": [
    "import time\n",
    "import matplotlib.pyplot as plt\n",
    "import tensorly as tl\n",
    "import numpy as np\n",
    "from scipy.misc import face, imresize\n",
    "from tensorly.decomposition import parafac\n",
    "from tensorly.decomposition import non_negative_parafac\n",
    "from tensorly.decomposition import tucker\n",
    "from math import ceil"
   ]
  },
  {
   "cell_type": "code",
   "execution_count": 10,
   "metadata": {},
   "outputs": [
    {
     "ename": "SyntaxError",
     "evalue": "invalid syntax (optim_parafac.py, line 184)",
     "output_type": "error",
     "traceback": [
      "Traceback \u001b[0;36m(most recent call last)\u001b[0m:\n",
      "  File \u001b[1;32m\"/usr/lib/python3.7/site-packages/IPython/core/interactiveshell.py\"\u001b[0m, line \u001b[1;32m2963\u001b[0m, in \u001b[1;35mrun_code\u001b[0m\n    exec(code_obj, self.user_global_ns, self.user_ns)\n",
      "\u001b[0;36m  File \u001b[0;32m\"<ipython-input-10-5b9b0e4babf4>\"\u001b[0;36m, line \u001b[0;32m1\u001b[0;36m, in \u001b[0;35m<module>\u001b[0;36m\u001b[0m\n\u001b[0;31m    import tensorly.contrib.optimization.optim_parafac as paraclass\u001b[0m\n",
      "\u001b[0;36m  File \u001b[0;32m\"/home/jecohen/Online/tensorly/tensorly/contrib/optimization/optim_parafac.py\"\u001b[0;36m, line \u001b[0;32m184\u001b[0m\n\u001b[0;31m    tol=1e-8, verbose=False, svd='numpy_svd', random_state=None)\u001b[0m\n\u001b[0m                                                                ^\u001b[0m\n\u001b[0;31mSyntaxError\u001b[0m\u001b[0;31m:\u001b[0m invalid syntax\n"
     ]
    }
   ],
   "source": [
    "import tensorly.contrib.optimization.optim_parafac as paraclass"
   ]
  },
  {
   "cell_type": "code",
   "execution_count": null,
   "metadata": {},
   "outputs": [],
   "source": [
    "random_state = 12345\n",
    "\n",
    "image = tl.tensor(imresize(face(), 0.3), dtype='float64')\n",
    "\n",
    "def to_image(tensor):\n",
    "    \"\"\"A convenience function to convert from a float dtype back to uint8\"\"\"\n",
    "    im = tl.to_numpy(tensor)\n",
    "    im -= im.min()\n",
    "    im /= im.max()\n",
    "    im *= 255\n",
    "    return im.astype(np.uint8)\n",
    "\n",
    "# Rank of the CP decomposition\n",
    "cp_rank = 25\n",
    "\n",
    "# Perform the CP decomposition\n",
    "    # creating the class instance\n",
    "model = paraclass.Parafac(cp_rank)\n",
    "factors, errors = model.fit(image)\n",
    "\n",
    "# Reconstruct the image from the factors\n",
    "cp_reconstruction = tl.kruskal_to_tensor(factors)\n",
    "\n",
    "\n",
    "# plotting original and reconstructions\n",
    "# Plotting the original and reconstruction from the decompositions\n",
    "fig = plt.figure()\n",
    "ax = fig.add_subplot(2, 3, 1)\n",
    "ax.set_axis_off()\n",
    "ax.imshow(to_image(image))\n",
    "ax.set_title('original')\n",
    "\n",
    "ax = fig.add_subplot(2, 3, 2)\n",
    "ax.set_axis_off()\n",
    "ax.imshow(to_image(cp_reconstruction))\n",
    "ax.set_title('CP optim')\n",
    "\n",
    "plt.tight_layout()\n",
    "plt.show()\n"
   ]
  },
  {
   "cell_type": "code",
   "execution_count": null,
   "metadata": {},
   "outputs": [],
   "source": []
  }
 ],
 "metadata": {
  "kernelspec": {
   "display_name": "Python 3",
   "language": "python",
   "name": "python3"
  },
  "language_info": {
   "codemirror_mode": {
    "name": "ipython",
    "version": 3
   },
   "file_extension": ".py",
   "mimetype": "text/x-python",
   "name": "python",
   "nbconvert_exporter": "python",
   "pygments_lexer": "ipython3",
   "version": "3.7.1"
  }
 },
 "nbformat": 4,
 "nbformat_minor": 2
}
