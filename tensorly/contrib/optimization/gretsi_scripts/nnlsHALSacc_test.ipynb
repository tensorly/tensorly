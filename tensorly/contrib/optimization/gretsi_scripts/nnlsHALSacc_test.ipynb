{
 "cells": [
  {
   "cell_type": "code",
   "execution_count": 1,
   "metadata": {},
   "outputs": [
    {
     "name": "stdout",
     "output_type": "stream",
     "text": [
      "/home/jecohen/Online/tensorly\n"
     ]
    }
   ],
   "source": [
    "cd ~/Online/tensorly/"
   ]
  },
  {
   "cell_type": "code",
   "execution_count": 2,
   "metadata": {},
   "outputs": [
    {
     "name": "stderr",
     "output_type": "stream",
     "text": [
      "Using numpy backend.\n"
     ]
    }
   ],
   "source": [
    "import tensorly as tl\n",
    "import numpy as np\n",
    "import tensorly.contrib.optimization.optim_routines as mytl"
   ]
  },
  {
   "cell_type": "code",
   "execution_count": 3,
   "metadata": {},
   "outputs": [],
   "source": [
    "n = 10\n",
    "m = 20\n",
    "r = 5\n",
    "U = np.random.rand(n,r)\n",
    "V = np.random.rand(r,m)\n",
    "M = tl.dot(U,V)\n",
    "UtU = tl.dot(tl.transpose(U),U)\n",
    "UtM = tl.dot(tl.transpose(U),M)\n"
   ]
  },
  {
   "cell_type": "code",
   "execution_count": 4,
   "metadata": {},
   "outputs": [],
   "source": [
    "Ve = np.random.rand(r,m)"
   ]
  },
  {
   "cell_type": "code",
   "execution_count": 5,
   "metadata": {},
   "outputs": [],
   "source": [
    "err1 = mytl.nnlsHALSacc(UtM, UtU, Ve, maxiter = 500)[1]"
   ]
  },
  {
   "cell_type": "code",
   "execution_count": 6,
   "metadata": {},
   "outputs": [
    {
     "name": "stdout",
     "output_type": "stream",
     "text": [
      "0.1376002607752468\n"
     ]
    }
   ],
   "source": [
    "print(err1)"
   ]
  },
  {
   "cell_type": "code",
   "execution_count": 7,
   "metadata": {},
   "outputs": [],
   "source": [
    "err2 = mytl.nnlsHALSacc(UtM, UtU, Ve, maxiter = 500)[1]"
   ]
  },
  {
   "cell_type": "code",
   "execution_count": 8,
   "metadata": {},
   "outputs": [
    {
     "name": "stdout",
     "output_type": "stream",
     "text": [
      "0.0010472791175109594\n"
     ]
    }
   ],
   "source": [
    "print(err2)"
   ]
  }
 ],
 "metadata": {
  "kernelspec": {
   "display_name": "Python 3",
   "language": "python",
   "name": "python3"
  },
  "language_info": {
   "codemirror_mode": {
    "name": "ipython",
    "version": 3
   },
   "file_extension": ".py",
   "mimetype": "text/x-python",
   "name": "python",
   "nbconvert_exporter": "python",
   "pygments_lexer": "ipython3",
   "version": "3.7.2"
  }
 },
 "nbformat": 4,
 "nbformat_minor": 2
}
